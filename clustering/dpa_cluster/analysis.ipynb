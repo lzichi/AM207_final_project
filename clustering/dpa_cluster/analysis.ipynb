{
 "cells": [
  {
   "cell_type": "markdown",
   "metadata": {},
   "source": [
    "# Analyze DPA labels with Ovito on MD simulation"
   ]
  },
  {
   "cell_type": "code",
   "execution_count": 2,
   "metadata": {},
   "outputs": [],
   "source": [
    "import numpy as np\n",
    "import ase.io as ase\n",
    "from torch_nl import compute_neighborlist, ase2data"
   ]
  },
  {
   "cell_type": "markdown",
   "metadata": {},
   "source": [
    "## Add DPA labels to XYZ file to visualize in Ovito"
   ]
  },
  {
   "cell_type": "code",
   "execution_count": 7,
   "metadata": {},
   "outputs": [],
   "source": [
    "## add dpa labels to xyz file ##\n",
    "name = \"results/dpa_inter/20ns_interval_100ps_64_ACE_torch_Z_3.5_isHalo_False_maxk_50_rmax_6.0_lmax_3_nmax_2.npy\"\n",
    "labels_dpa = np.load(name).reshape(200, 16080)\n",
    "\n",
    "# -1 for non Li environments\n",
    "labels = np.ones((200, 21120))*-1\n",
    "labels[:, :16080] = labels_dpa\n",
    "\n",
    "# load xyz file\n",
    "atoms = ase.read('20ns_interval_100ps.xyz', ':')\n",
    "\n",
    "# add column of labels as a custom property\n",
    "for i, atom in enumerate(atoms):\n",
    "    atom.set_array('labels', labels[i])\n",
    "\n",
    "# add column of index as a custom property\n",
    "for i, atom in enumerate(atoms):\n",
    "    atom.set_array('index', np.arange(0, 21120, 1))\n",
    "\n",
    "# save the modified atoms with labels (optional, to verify or save the new file)\n",
    "ase.write(f\"results/visual/{name.split('/')[-1].split('.npy')[0]}.xyz\", atoms)"
   ]
  },
  {
   "cell_type": "markdown",
   "metadata": {},
   "source": [
    "## Code for Figure 4"
   ]
  },
  {
   "cell_type": "code",
   "execution_count": null,
   "metadata": {},
   "outputs": [],
   "source": [
    "def add_column_xyz(input_file, output_file, arr, col_name):\n",
    "    \"\"\" \n",
    "    Add column of arr values to XYZ input file.\n",
    "    \n",
    "    Parameters:\n",
    "        input_file (str): Path to XYZ file to add labels to.\n",
    "        output_file (str): Path new .xyz file with added labels.\n",
    "        arr (numpy.ndarray): Arr to add to XYZ file\n",
    "        col_name (str): Name of new column.\n",
    "    __________\n",
    "    \n",
    "    \"\"\"\n",
    "    # load xyz file\n",
    "    atoms = ase.read(input_file, '199:200')\n",
    "\n",
    "    # add column of labels as a custom property\n",
    "    for i, atom in enumerate(atoms):\n",
    "        atom.set_array(col_name, arr[i])\n",
    "\n",
    "    # add column of index as a custom property\n",
    "    for i, atom in enumerate(atoms):\n",
    "        atom.set_array('index', np.arange(0, 21120, 1))\n",
    "\n",
    "    # save the modified atoms with labels\n",
    "    ase.write(output_file, atoms)\n",
    "\n",
    "def define_clusters(labels, input_xyz_file, output_xyz_file,  mapping, start, stop, interval, relevant_labels):\n",
    "    \"\"\"\n",
    "    Determine which species are within an atoms' cutoff, add columns to .xyz file.\n",
    "    \n",
    "    Parameters:\n",
    "        labels (str): Path to .npy file of labels for each atom in the mapping.\n",
    "        input_xyz_file (str): Path to .xyz file to add labels for each atom to.\n",
    "        output_xyz_file (str): Path to .xyz file to save original .xyz file atributes and new columns.\n",
    "        mapping (array 2 x X): Neighbors of each atom.\n",
    "        start (int): Start index of XYZ file.\n",
    "        stop (int): Stop index of XYZ file. \n",
    "        interval (int): Interval of XYZ file.\n",
    "    \"\"\"\n",
    "    size = 200 # number of frames in the xyz file\n",
    "    neighbs = np.zeros((len(relevant_labels), size, 21120))\n",
    "\n",
    "    # for each frame add column to xyz file of neigh species for relevant clusters\n",
    "    for label_frame, idx in zip(labels, np.arange(start, stop, interval)):\n",
    "        print(idx)\n",
    "        offset = idx*21120\n",
    "        for idx_label, relevant_label in enumerate(relevant_labels):\n",
    "            neighbs[idx_label][idx][mapping[1][np.where(np.isin(mapping[0], np.where(label_frame == relevant_label)[0]+offset))[0]] - offset] = 1\n",
    "            if(idx_label == 0):\n",
    "                add_column_xyz(input_xyz_file, output_xyz_file, neighbs[idx_label], \"is\"+str(relevant_label))\n",
    "            else:\n",
    "                add_column_xyz(output_xyz_file, output_xyz_file, neighbs[idx_label], \"is\"+str(relevant_label))"
   ]
  },
  {
   "cell_type": "code",
   "execution_count": null,
   "metadata": {},
   "outputs": [],
   "source": [
    "# add neighbors for interesting clusterings (modified for cluster 351)\n",
    "input_xyz_file = f\"results/visual/{name.split('/')[-1].split('.npy')[0]}.xyz\"\n",
    "output_xyz_file = input_xyz_file\n",
    "mapping = np.load(\"results/dpa_inter/21120_atoms_rmax_6.0_lmax_3_nmax_2.npy\")\n",
    "relevant_labels = [351]\n",
    "define_clusters(labels, input_xyz_file, output_xyz_file,  mapping, 0, 200, 1, relevant_labels)"
   ]
  },
  {
   "cell_type": "code",
   "execution_count": 13,
   "metadata": {},
   "outputs": [],
   "source": [
    "# find neighbors in 20th frame for certain atoms\n",
    "frames = ase.read('20ns_interval_100ps.xyz', '199:200')\n",
    "pos, cell, pbc, batch, n_atoms = ase2data(frames)\n",
    "\n",
    "cutoff = 6\n",
    "\n",
    "mapping, batch_mapping, shifts_idx = compute_neighborlist(\n",
    "    cutoff, pos, cell, pbc, batch, self_interaction = False)\n",
    "\n",
    "# print neighbor indices to select in Ovito\n",
    "# elec: 11827\n",
    "# LiCl: 3779\n",
    "\n",
    "particle = 3779\n",
    "neighs = mapping[1][np.where(mapping[0] == particle)[0]]\n",
    "\n",
    "str = \"\"\n",
    "for neigh in neighs:\n",
    "    str = str + (f\"index == {neigh} || \")\n",
    "print(str)"
   ]
  }
 ],
 "metadata": {
  "kernelspec": {
   "display_name": "base",
   "language": "python",
   "name": "python3"
  },
  "language_info": {
   "codemirror_mode": {
    "name": "ipython",
    "version": 3
   },
   "file_extension": ".py",
   "mimetype": "text/x-python",
   "name": "python",
   "nbconvert_exporter": "python",
   "pygments_lexer": "ipython3",
   "version": "3.9.7"
  },
  "orig_nbformat": 4
 },
 "nbformat": 4,
 "nbformat_minor": 2
}
