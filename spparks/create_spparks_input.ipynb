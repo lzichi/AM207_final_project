{
 "cells": [
  {
   "cell_type": "code",
   "execution_count": 1,
   "metadata": {},
   "outputs": [],
   "source": [
    "import numpy as np"
   ]
  },
  {
   "cell_type": "code",
   "execution_count": 5,
   "metadata": {},
   "outputs": [
    {
     "name": "stdout",
     "output_type": "stream",
     "text": [
      "SPPARKS chemistry input file saved as chemistry_input.in\n"
     ]
    }
   ],
   "source": [
    "def save_spparks_reaction_file(transition_matrix, initial_counts, output_file):\n",
    "    \"\"\"\n",
    "    Save a transition matrix to a SPPARKS-compatible chemistry input file.\n",
    "\n",
    "    Parameters:\n",
    "    transition_matrix (numpy.ndarray or list of lists): The transition matrix (reaction rates).\n",
    "    initial_counts (list or numpy.ndarray): Array of initial counts for each species.\n",
    "    output_file (str): The name of the output file.\n",
    "    \"\"\"\n",
    "\n",
    "    num_states = transition_matrix.shape[0]\n",
    "\n",
    "    # Automatically generate species names\n",
    "    species = [f\"S{i+1}\" for i in range(num_states)]\n",
    "\n",
    "    with open(output_file, \"w\") as f:\n",
    "        f.write(\"# SPPARKS chemistry application\\n\")\n",
    "        f.write(\"# Generated from transition matrix\\n\\n\")\n",
    "        f.write(\"seed 12345\\n\\n\")\n",
    "        f.write(\"app_style chemistry\\n\")\n",
    "        f.write(\"solve_style linear\\n\\n\")\n",
    "        f.write(\"volume 1.0\\n\\n\")  # Modify volume if necessary\n",
    "\n",
    "        # Add species\n",
    "        for s in species:\n",
    "            f.write(f\"add_species {s}\\n\")\n",
    "        f.write(\"\\n\")\n",
    "\n",
    "        # Add reactions\n",
    "        reaction_id = 1\n",
    "        for i in range(num_states):\n",
    "            for j in range(num_states):\n",
    "                if transition_matrix[i, j] > 0:  # Only write reactions with nonzero rates\n",
    "                    f.write(f\"add_reaction {reaction_id} {species[i]} 1.0 {species[j]} {transition_matrix[i, j]:.6e}\\n\")\n",
    "                    reaction_id += 1\n",
    "        f.write(\"\\n\")\n",
    "\n",
    "        # Add initial counts\n",
    "        for s, count in zip(species, initial_counts):\n",
    "            f.write(f\"count {s} {count}\\n\")\n",
    "        f.write(\"\\n\")\n",
    "\n",
    "        f.write(\"stats 0.01\\n\\n\")\n",
    "        f.write(\"run 1.0\\n\")\n",
    "\n",
    "    print(f\"SPPARKS chemistry input file saved as {output_file}\")\n",
    "\n",
    "\n",
    "# Example transition matrix and initial counts\n",
    "transition_matrix = [\n",
    "    [0.0, 1.0e10, 0.0],\n",
    "    [1.0e10, 0.0, 2.0e10],\n",
    "    [0.0, 2.0e10, 0.0]\n",
    "]\n",
    "initial_counts = [3000, 2000, 1000]  # Initial counts for S1, S2, S3\n",
    "\n",
    "# Save as .in file\n",
    "save_spparks_reaction_file(transition_matrix, initial_counts, \"chemistry_input_with_counts.in\")\n"
   ]
  },
  {
   "cell_type": "code",
   "execution_count": null,
   "metadata": {},
   "outputs": [],
   "source": []
  }
 ],
 "metadata": {
  "kernelspec": {
   "display_name": "base",
   "language": "python",
   "name": "python3"
  },
  "language_info": {
   "codemirror_mode": {
    "name": "ipython",
    "version": 3
   },
   "file_extension": ".py",
   "mimetype": "text/x-python",
   "name": "python",
   "nbconvert_exporter": "python",
   "pygments_lexer": "ipython3",
   "version": "3.9.7"
  },
  "orig_nbformat": 4
 },
 "nbformat": 4,
 "nbformat_minor": 2
}
